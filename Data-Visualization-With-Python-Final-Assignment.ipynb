{
 "cells": [
  {
   "cell_type": "code",
   "execution_count": 1,
   "id": "cc87250d-54c0-48d1-b8b5-4422533faba1",
   "metadata": {},
   "outputs": [
    {
     "name": "stdout",
     "output_type": "stream",
     "text": [
      "Defaulting to user installation because normal site-packages is not writeable\n",
      "Collecting dash\n",
      "  Using cached dash-2.17.0-py3-none-any.whl (7.5 MB)\n",
      "Collecting Flask<3.1,>=1.0.4\n",
      "  Using cached flask-3.0.3-py3-none-any.whl (101 kB)\n",
      "Requirement already satisfied: Werkzeug<3.1 in c:\\users\\ncp\\appdata\\roaming\\python\\python311\\site-packages (from dash) (3.0.3)\n",
      "Requirement already satisfied: plotly>=5.0.0 in c:\\users\\ncp\\appdata\\roaming\\python\\python311\\site-packages (from dash) (5.22.0)\n",
      "Requirement already satisfied: dash-html-components==2.0.0 in c:\\users\\ncp\\appdata\\roaming\\python\\python311\\site-packages (from dash) (2.0.0)\n",
      "Requirement already satisfied: dash-core-components==2.0.0 in c:\\users\\ncp\\appdata\\roaming\\python\\python311\\site-packages (from dash) (2.0.0)\n",
      "Requirement already satisfied: dash-table==5.0.0 in c:\\users\\ncp\\appdata\\roaming\\python\\python311\\site-packages (from dash) (5.0.0)\n",
      "Collecting importlib-metadata\n",
      "  Using cached importlib_metadata-7.1.0-py3-none-any.whl (24 kB)\n",
      "Requirement already satisfied: typing-extensions>=4.1.1 in c:\\users\\ncp\\appdata\\roaming\\python\\python311\\site-packages (from dash) (4.11.0)\n",
      "Requirement already satisfied: requests in c:\\users\\ncp\\appdata\\roaming\\python\\python311\\site-packages (from dash) (2.31.0)\n",
      "Requirement already satisfied: retrying in c:\\users\\ncp\\appdata\\roaming\\python\\python311\\site-packages (from dash) (1.3.4)\n",
      "Requirement already satisfied: nest-asyncio in c:\\users\\ncp\\appdata\\roaming\\python\\python311\\site-packages (from dash) (1.6.0)\n",
      "Requirement already satisfied: setuptools in c:\\program files\\python311\\lib\\site-packages (from dash) (65.5.0)\n",
      "Requirement already satisfied: Jinja2>=3.1.2 in c:\\users\\ncp\\appdata\\roaming\\python\\python311\\site-packages (from Flask<3.1,>=1.0.4->dash) (3.1.4)\n",
      "Requirement already satisfied: itsdangerous>=2.1.2 in c:\\users\\ncp\\appdata\\roaming\\python\\python311\\site-packages (from Flask<3.1,>=1.0.4->dash) (2.2.0)\n",
      "Collecting click>=8.1.3\n",
      "  Using cached click-8.1.7-py3-none-any.whl (97 kB)\n",
      "Requirement already satisfied: blinker>=1.6.2 in c:\\users\\ncp\\appdata\\roaming\\python\\python311\\site-packages (from Flask<3.1,>=1.0.4->dash) (1.8.2)\n",
      "Requirement already satisfied: tenacity>=6.2.0 in c:\\users\\ncp\\appdata\\roaming\\python\\python311\\site-packages (from plotly>=5.0.0->dash) (8.3.0)\n",
      "Requirement already satisfied: packaging in c:\\users\\ncp\\appdata\\roaming\\python\\python311\\site-packages (from plotly>=5.0.0->dash) (24.0)\n",
      "Requirement already satisfied: MarkupSafe>=2.1.1 in c:\\users\\ncp\\appdata\\roaming\\python\\python311\\site-packages (from Werkzeug<3.1->dash) (2.1.5)\n",
      "Requirement already satisfied: zipp>=0.5 in c:\\users\\ncp\\appdata\\roaming\\python\\python311\\site-packages (from importlib-metadata->dash) (3.18.2)\n",
      "Requirement already satisfied: charset-normalizer<4,>=2 in c:\\users\\ncp\\appdata\\roaming\\python\\python311\\site-packages (from requests->dash) (3.3.2)\n",
      "Requirement already satisfied: idna<4,>=2.5 in c:\\users\\ncp\\appdata\\roaming\\python\\python311\\site-packages (from requests->dash) (3.7)\n",
      "Requirement already satisfied: urllib3<3,>=1.21.1 in c:\\users\\ncp\\appdata\\roaming\\python\\python311\\site-packages (from requests->dash) (1.26.13)\n",
      "Requirement already satisfied: certifi>=2017.4.17 in c:\\users\\ncp\\appdata\\roaming\\python\\python311\\site-packages (from requests->dash) (2024.2.2)\n",
      "Requirement already satisfied: six>=1.7.0 in c:\\users\\ncp\\appdata\\roaming\\python\\python311\\site-packages (from retrying->dash) (1.16.0)\n",
      "Requirement already satisfied: colorama in c:\\users\\ncp\\appdata\\roaming\\python\\python311\\site-packages (from click>=8.1.3->Flask<3.1,>=1.0.4->dash) (0.4.6)\n",
      "Installing collected packages: importlib-metadata, click, Flask, dash\n",
      "Successfully installed Flask-3.0.3 click-8.1.7 dash-2.17.0 importlib-metadata-7.1.0\n",
      "Note: you may need to restart the kernel to use updated packages.\n"
     ]
    },
    {
     "name": "stderr",
     "output_type": "stream",
     "text": [
      "\n",
      "[notice] A new release of pip available: 22.3.1 -> 24.0\n",
      "[notice] To update, run: python.exe -m pip install --upgrade pip\n"
     ]
    }
   ],
   "source": [
    "pip install dash"
   ]
  },
  {
   "cell_type": "code",
   "execution_count": 3,
   "id": "eb009357-d288-4caf-b6ab-3857b17ae04d",
   "metadata": {},
   "outputs": [
    {
     "name": "stdout",
     "output_type": "stream",
     "text": [
      "Defaulting to user installation because normal site-packages is not writeable\n",
      "Collecting more-itertools\n",
      "  Downloading more_itertools-10.2.0-py3-none-any.whl (57 kB)\n",
      "     ---------------------------------------- 57.0/57.0 kB 1.5 MB/s eta 0:00:00\n",
      "Installing collected packages: more-itertools\n",
      "Successfully installed more-itertools-10.2.0\n",
      "Note: you may need to restart the kernel to use updated packages.\n"
     ]
    },
    {
     "name": "stderr",
     "output_type": "stream",
     "text": [
      "\n",
      "[notice] A new release of pip available: 22.3.1 -> 24.0\n",
      "[notice] To update, run: python.exe -m pip install --upgrade pip\n"
     ]
    }
   ],
   "source": [
    "pip install more-itertools\n"
   ]
  },
  {
   "cell_type": "code",
   "execution_count": 5,
   "id": "05c754d7-c8e6-4dc3-8653-b0fa42d3069b",
   "metadata": {},
   "outputs": [
    {
     "name": "stdout",
     "output_type": "stream",
     "text": [
      "Note: you may need to restart the kernel to use updated packages.\n",
      "Defaulting to user installation because normal site-packages is not writeable\n",
      "Collecting pandas\n",
      "  Downloading pandas-2.2.2-cp311-cp311-win_amd64.whl (11.6 MB)\n",
      "     ---------------------------------------- 11.6/11.6 MB 3.5 MB/s eta 0:00:00\n",
      "Collecting numpy>=1.23.2\n",
      "  Downloading numpy-1.26.4-cp311-cp311-win_amd64.whl (15.8 MB)\n",
      "     ---------------------------------------- 15.8/15.8 MB 3.7 MB/s eta 0:00:00\n",
      "Requirement already satisfied: python-dateutil>=2.8.2 in c:\\users\\ncp\\appdata\\roaming\\python\\python311\\site-packages (from pandas) (2.8.2)\n",
      "Collecting pytz>=2020.1\n",
      "  Downloading pytz-2024.1-py2.py3-none-any.whl (505 kB)\n",
      "     -------------------------------------- 505.5/505.5 kB 4.5 MB/s eta 0:00:00\n",
      "Collecting tzdata>=2022.7\n",
      "  Downloading tzdata-2024.1-py2.py3-none-any.whl (345 kB)\n",
      "     -------------------------------------- 345.4/345.4 kB 4.3 MB/s eta 0:00:00\n",
      "Requirement already satisfied: six>=1.5 in c:\\users\\ncp\\appdata\\roaming\\python\\python311\\site-packages (from python-dateutil>=2.8.2->pandas) (1.16.0)\n",
      "Installing collected packages: pytz, tzdata, numpy, pandas\n",
      "Successfully installed numpy-1.26.4 pandas-2.2.2 pytz-2024.1 tzdata-2024.1\n"
     ]
    },
    {
     "name": "stderr",
     "output_type": "stream",
     "text": [
      "\n",
      "[notice] A new release of pip available: 22.3.1 -> 24.0\n",
      "[notice] To update, run: python.exe -m pip install --upgrade pip\n"
     ]
    }
   ],
   "source": [
    "pip install pandas"
   ]
  },
  {
   "cell_type": "code",
   "execution_count": 6,
   "id": "c15d452c-4731-458f-b679-74bc305a7e8c",
   "metadata": {},
   "outputs": [],
   "source": [
    "import dash\n",
    "import more_itertools\n",
    "from dash import dcc\n",
    "from dash import html\n",
    "from dash.dependencies import Input, Output\n",
    "import pandas as pd\n",
    "import plotly.graph_objs as go\n",
    "import plotly.express as px"
   ]
  },
  {
   "cell_type": "code",
   "execution_count": 7,
   "id": "60e05fad-b432-41d7-8845-73586d0ddc03",
   "metadata": {},
   "outputs": [],
   "source": [
    "# Load the data using pandas\n",
    "data = pd.read_csv('https://cf-courses-data.s3.us.cloud-object-storage.appdomain.cloud/IBMDeveloperSkillsNetwork-DV0101EN-SkillsNetwork/Data%20Files/historical_automobile_sales.csv')\n",
    "\n"
   ]
  },
  {
   "cell_type": "code",
   "execution_count": 85,
   "id": "d808d556-0ec8-41ad-9c3b-fd4c7da65386",
   "metadata": {},
   "outputs": [],
   "source": [
    "# Initialize the Dash app\n",
    "app = dash.Dash(__name__)\n",
    "\n",
    "# Set the title of the dashboard\n",
    "app.title = \"Automobile Sales Statistics Dashboard\"\n",
    "\n",
    "from dash import dash_table\n",
    "#Create the dropdown menu options\n",
    "dropdown_options = [\n",
    "    {'label': 'Yearly Statistics', 'value': 'Yearly Statistics'},\n",
    "    {'label': 'Recession Period Statistics', 'value': 'Recession Period Statistics'}\n",
    "]\n",
    "\n",
    "# List of years \n",
    "year_list = [i for i in range(1980, 2024, 1)]\n",
    "\n",
    "\n",
    "app.layout = [\n",
    "    html.Div(children='Automobile Sales Statistics Dashboard', style={'textAlign': 'center', 'color': '#503D36', 'font-size': 24}),\n",
    "    html.Div([#TASK 2.2: Add two dropdown menus\n",
    "        html.Label(\"Select Statistics:\"),\n",
    "        dcc.Dropdown(\n",
    "            id='dropdown-statistics',\n",
    "            options=dropdown_options,\n",
    "            # value='.................',\n",
    "            placeholder='Select a report type'\n",
    "        )\n",
    "    ]),\n",
    "     html.Div([\n",
    "         html.Label(\"Select Year\"),\n",
    "         dcc.Dropdown(\n",
    "            id='select-year',\n",
    "            options=[{'label': i, 'value': i} for i in year_list],\n",
    "            # value='...................'\n",
    "         )\n",
    "    ]),\n",
    "\n",
    "     html.Div([#TASK 2.3: Add a division for output display\n",
    "     html.Div([\n",
    "     html.Div(id='output-container', className='chart-grid', style={'display': 'flex'}),\n",
    "    ])\n",
    "    ])\n",
    "]\n",
    "\n",
    "#TASK 2.4: Creating Callbacks\n",
    "# Define the callback function to update the input container based on the selected statistics\n",
    "@app.callback(\n",
    "    Output(component_id='select-year', component_property='disabled'),\n",
    "    Input(component_id='dropdown-statistics',component_property='value'))\n",
    "\n",
    "def update_input_container(selected_statistics):\n",
    "    if selected_statistics =='Yearly Statistics': \n",
    "        return False\n",
    "    else: \n",
    "        return True\n",
    "\n",
    "#Callback for plotting\n",
    "# Define the callback function to update the input container based on the selected statistics\n",
    "@app.callback(\n",
    "    Output(component_id='output-container', component_property='children'),\n",
    "    [Input(component_id='dropdown-statistics', component_property='value'), Input(component_id='select-year', component_property='value')])\n",
    "\n",
    "\n",
    "def update_output_container(selected_statistics, input_year):\n",
    "    if selected_statistics == 'Recession Period Statistics':\n",
    "        # Filter the data for recession periods\n",
    "        recession_data = data[data['Recession'] == 1]\n",
    "    # dash_table.DataTable(data=data.to_dict('records'), page_size=10)\n",
    "\n",
    "#TASK 2.5: Create and display graphs for Recession Report Statistics\n",
    "\n",
    "#Plot 1 Automobile sales fluctuate over Recession Period (year wise)\n",
    "        # use groupby to create relevant data for plotting\n",
    "        yearly_rec=recession_data.groupby('Year')['Automobile_Sales'].mean().reset_index()\n",
    "        R_chart1 = dcc.Graph(\n",
    "            figure=px.line(yearly_rec, \n",
    "                x='Year',\n",
    "                y='Automobile_Sales',\n",
    "                title=\"Average Automobile Sales fluctuation over Recession Period\"))\n",
    "\n",
    "#Plot 2 Calculate the average number of vehicles sold by vehicle type       \n",
    "        # use groupby to create relevant data for plotting\n",
    "        average_sales = recession_data.groupby('Vehicle_Type')['Automobile_Sales'].mean().reset_index()                           \n",
    "        R_chart2  = dcc.Graph(figure=px.bar(average_sales, x= 'Vehicle_Type', y= 'Automobile_Sales',\n",
    "                title='Average Number of Vehicles Sold by Type'))\n",
    "        \n",
    "# Plot 3 Pie chart for total expenditure share by vehicle type during recessions\n",
    "        # use groupby to create relevant data for plotting\n",
    "        exp_rec= recession_data.groupby('Vehicle_Type')['Advertising_Expenditure'].sum().reset_index()\n",
    "        R_chart3 = dcc.Graph(\n",
    "                    figure=px.pie(exp_rec,\n",
    "                    values='Advertising_Expenditure',\n",
    "                 names='Vehicle_Type',\n",
    "                 title=\"Total Expenditure by Vehicle Type\"\n",
    "                ))\n",
    "\n",
    "# Plot 4 bar chart for the effect of unemployment rate on vehicle type and sales\n",
    "        unempl = recession_data.groupby(['Vehicle_Type', 'unemployment_rate'])['Automobile_Sales'].mean().reset_index()\n",
    "        print(unempl.columns)\n",
    "        R_chart4 = dcc.Graph(\n",
    "                    figure=px.bar(unempl,\n",
    "                    x='Vehicle_Type',\n",
    "                    y='Automobile_Sales',\n",
    "                    color='unemployment_rate',\n",
    "                    title='Effect of Unemployment Rate on Vehicle Type and Sales'\n",
    "                    ))\n",
    "\n",
    "\n",
    "        return [\n",
    "            html.Div(className='chart-item', children=[html.Div(children=R_chart1),html.Div(children=R_chart2)],style={'display':'flex'}),\n",
    "            html.Div(className='chart-item', children=[html.Div(children=R_chart3),html.Div(children=R_chart4)],style={'display':'flex'})\n",
    "            ]\n",
    "\n",
    "# TASK 2.6: Create and display graphs for Yearly Report Statistics\n",
    " # Yearly Statistic Report Plots                             \n",
    "    elif (input_year and selected_statistics=='Yearly Statistics') :\n",
    "        yearly_data = data[data['Year'] == input_year]\n",
    "                              \n",
    "#TASK 2.5: Creating Graphs Yearly data\n",
    "                              \n",
    "#plot 1 Yearly Automobile sales using line chart for the whole period.\n",
    "        yas= data.groupby('Year')['Automobile_Sales'].mean().reset_index()\n",
    "        Y_chart1 = dcc.Graph(figure=px.line(yas, x='Year', y='Automobile_Sales'))\n",
    "            \n",
    "# Plot 2 Total Monthly Automobile sales using line chart.\n",
    "        monthly_sales = data.groupby('Month')['Automobile_Sales'].sum().reset_index()\n",
    "        Y_chart2 = dcc.Graph(figure=px.line(monthly_sales, x= 'Month', y='Automobile_Sales',\n",
    "            title= 'Total Monthly Automobile Sales'))\n",
    "\n",
    "            # Plot bar chart for average number of vehicles sold during the given year\n",
    "        avr_vdata=yearly_data.groupby('Year')['Automobile_Sales'].mean().reset_index()\n",
    "        Y_chart3 = dcc.Graph( figure =px.bar(avr_vdata,x='Year', y='Automobile_Sales',title='Average Vehicles Sold by Vehicle Type in the year {}'.format(input_year)))\n",
    "\n",
    "            # Total Advertisement Expenditure for each vehicle using pie chart\n",
    "        exp_data=yearly_data.groupby('Vehicle_Type')['Advertising_Expenditure'].sum().reset_index()\n",
    "        Y_chart4 = dcc.Graph(figure=px.pie(exp_data, values = 'Advertising_Expenditure', names='Vehicle_Type'))\n",
    "\n",
    "#TASK 2.6: Returning the graphs for displaying Yearly data\n",
    "        return [\n",
    "            html.Div(className='chart-item', children=[html.Div(children=Y_chart1),html.Div(children=Y_chart2)],style={'display': 'flex'}),\n",
    "            html.Div(className='chart-item', children=[html.Div(children=Y_chart3),html.Div(children=Y_chart4)],style={'display': 'flex'})\n",
    "            ]"
   ]
  },
  {
   "cell_type": "code",
   "execution_count": null,
   "id": "090a4146-096e-4779-b360-664fe9148405",
   "metadata": {},
   "outputs": [],
   "source": []
  },
  {
   "cell_type": "code",
   "execution_count": 86,
   "id": "2b39fcc4-e67a-4076-b694-3b4fa24979b0",
   "metadata": {
    "scrolled": true
   },
   "outputs": [
    {
     "data": {
      "text/html": [
       "\n",
       "        <iframe\n",
       "            width=\"100%\"\n",
       "            height=\"650\"\n",
       "            src=\"http://127.0.0.1:8050/\"\n",
       "            frameborder=\"0\"\n",
       "            allowfullscreen\n",
       "            \n",
       "        ></iframe>\n",
       "        "
      ],
      "text/plain": [
       "<IPython.lib.display.IFrame at 0x27953d92290>"
      ]
     },
     "metadata": {},
     "output_type": "display_data"
    },
    {
     "name": "stdout",
     "output_type": "stream",
     "text": [
      "Index(['Vehicle_Type', 'unemployment_rate', 'Automobile_Sales'], dtype='object')\n"
     ]
    }
   ],
   "source": [
    "#Run the app\n",
    "if __name__ == '__main__':\n",
    "    app.run(debug=True)"
   ]
  }
 ],
 "metadata": {
  "kernelspec": {
   "display_name": "Python 3 (ipykernel)",
   "language": "python",
   "name": "python3"
  },
  "language_info": {
   "codemirror_mode": {
    "name": "ipython",
    "version": 3
   },
   "file_extension": ".py",
   "mimetype": "text/x-python",
   "name": "python",
   "nbconvert_exporter": "python",
   "pygments_lexer": "ipython3",
   "version": "3.11.1"
  }
 },
 "nbformat": 4,
 "nbformat_minor": 5
}
